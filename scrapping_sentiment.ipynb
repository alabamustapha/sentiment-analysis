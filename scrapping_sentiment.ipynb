{
 "cells": [
  {
   "cell_type": "code",
   "execution_count": 8,
   "metadata": {},
   "outputs": [],
   "source": [
    "import requests"
   ]
  },
  {
   "cell_type": "code",
   "execution_count": 9,
   "metadata": {},
   "outputs": [],
   "source": [
    "class WebScraper:\n",
    "    def __init__(self, url):\n",
    "        self.__url = url\n",
    "\n",
    "    @property\n",
    "    def url(self):\n",
    "        return self.__url\n",
    "    \n",
    "    @url.setter\n",
    "    def url(self, url):\n",
    "        self.__url = url\n",
    "    \n",
    "    def download_html(self, file_name='webpage.html'):\n",
    "        try:\n",
    "            print(f\"Downloading page content from: {self.url}\")\n",
    "            response = requests.get(self.url)\n",
    "            with open(file_name, 'w') as file:\n",
    "                print(f\"Saving page content to: {file_name}\")\n",
    "                file.write(response.text)\n",
    "            print(\"Download completed successfully\")\n",
    "        except Exception as e:\n",
    "            print(\"Unable to download page content\")\n",
    "            print(e)"
   ]
  }
 ],
 "metadata": {
  "kernelspec": {
   "display_name": "base",
   "language": "python",
   "name": "python3"
  },
  "language_info": {
   "codemirror_mode": {
    "name": "ipython",
    "version": 3
   },
   "file_extension": ".py",
   "mimetype": "text/x-python",
   "name": "python",
   "nbconvert_exporter": "python",
   "pygments_lexer": "ipython3",
   "version": "3.12.4"
  }
 },
 "nbformat": 4,
 "nbformat_minor": 2
}
